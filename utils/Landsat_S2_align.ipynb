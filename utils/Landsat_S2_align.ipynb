{
 "cells": [
  {
   "cell_type": "code",
   "execution_count": 9,
   "id": "64fbf700-8e86-4112-b790-6daa0290f80a",
   "metadata": {},
   "outputs": [
    {
     "name": "stdout",
     "output_type": "stream",
     "text": [
      "'VibeWorkflowRun'(id='dc25725f-0eef-49c6-b0ec-399eb0ed5072', name='33_landsat_geojson_indx_op_merge', workflow='{'default_parameters': {'pc_key': None, 'qa_mask_value': 64}, 'name': 'preprocess_landsat', 'sources': {'user_input': ['list.input_item']}, 'sinks': {'raster': 'stack.landsat_raster', 'merged_raster': 'merge.raster'}, 'parameters': {'pc_key': None, 'qa_mask_value': 64}, 'tasks': {'list': {'op': 'list_landsat_products_pc'}, 'download': {'op': 'download_landsat_from_pc', 'parameters': {'api_key': '@from(pc_key)'}}, 'stack': {'op': 'stack_landsat', 'parameters': {'qa_mask_value': '@from(qa_mask_value)'}}, 'to_sequence': {'op': 'list_to_sequence'}, 'merge': {'op': 'merge_rasters'}}, 'edges': [{'destination': ['download.landsat_product'], 'origin': 'list.landsat_products'}, {'origin': 'download.downloaded_product', 'destination': ['stack.landsat_product']}, {'destination': ['to_sequence.list_rasters'], 'origin': 'stack.landsat_raster'}, {'destination': ['merge.raster_sequence'], 'origin': 'to_sequence.rasters_seq'}], 'description': {'short_description': 'Downloads and preprocesses LANDSAT tiles that intersect with the input geometry and time range.', 'long_description': 'The workflow will download the tile bands from the Planetary Computer and stack them into a single raster at 30m resolution.', 'sources': {'user_input': 'Time range and geometry of interest.'}, 'sinks': {'raster': 'LANDSAT rasters at 30m resolution.'}, 'parameters': {'pc_key': 'Optional Planetary Computer API key.', 'qa_mask_value': 'Bitmap for which pixel to be included. See documentation for each bit in https://www.usgs.gov/media/images/landsat-collection-2-pixel-quality-assessment-bit-index For example, the default value 64 (i.e. 1<<6 ) corresponds to \"Clear\" pixels'}}}', status='done')\n",
      "{'driver': 'GTiff', 'dtype': 'float32', 'nodata': None, 'width': 7551, 'height': 7701, 'count': 17, 'crs': CRS.from_epsg(32615), 'transform': Affine(30.0, 0.0, 655185.0,\n",
      "       0.0, -30.0, 1874715.0)}\n",
      "'VibeWorkflowRun'(id='e3da794a-da7f-4497-b1b6-0ec3a3322283', name='33_s2_geojson_indx_op_merge', workflow='{'description': {'sources': {'user_input': 'Time range and geometry of interest.'}, 'sinks': {'raster': 'Sentinel-2 L2A rasters with all bands resampled to 10m resolution.', 'mask': \"Cloud mask at 10m resolution from the product's quality indicators.\"}, 'parameters': {'pc_key': 'Optional Planetary Computer API key.', 'min_tile_cover': 'Minimum RoI coverage to consider a set of tiles sufficient.', 'max_tiles_per_time': 'Maximum number of tiles used to cover the RoI in each date.'}, 'short_description': 'Downloads and preprocesses Sentinel-2 imagery that covers the input geometry and time range.', 'long_description': 'This workflow selects a minimum set of tiles that covers the input geometry, downloads Sentinel-2 imagery for the selected time range, and preprocesses it by generating a single multi-band raster at 10m resolution.'}, 'default_parameters': {'max_tiles_per_time': None, 'pc_key': None, 'dl_timeout': None, 'min_tile_cover': None}, 'name': 'preprocess_s2', 'sources': {'user_input': ['list.input_item', 'filter.bounds_items']}, 'sinks': {'mask': 'merge.output_mask', 'raster': 'merge.output_raster'}, 'parameters': {'pc_key': None, 'dl_timeout': None, 'min_tile_cover': None, 'max_tiles_per_time': None}, 'tasks': {'filter': {'parameters': {'min_cover': '@from(min_tile_cover)', 'max_items': '@from(max_tiles_per_time)'}, 'op': 'select_necessary_coverage_items'}, 'download': {'op': 'download_stack_sentinel2', 'parameters': {'timeout_s': '@from(dl_timeout)', 'api_key': '@from(pc_key)'}}, 'group': {'op': 'group_sentinel2_orbits'}, 'merge': {'op': 'merge_sentinel2_orbits'}, 'list': {'op_dir': 'list_sentinel2_products', 'op': 'list_sentinel2_products_pc'}}, 'edges': [{'destination': ['filter.items'], 'origin': 'list.sentinel_products'}, {'destination': ['download.sentinel_product'], 'origin': 'filter.filtered_items'}, {'origin': 'download.raster', 'destination': ['group.rasters']}, {'origin': 'download.cloud', 'destination': ['group.masks']}, {'destination': ['merge.raster_group'], 'origin': 'group.raster_groups'}, {'destination': ['merge.mask_group'], 'origin': 'group.mask_groups'}]}', status='done')\n",
      "{'driver': 'GTiff', 'dtype': 'uint16', 'nodata': 0.0, 'width': 10980, 'height': 10980, 'count': 12, 'crs': CRS.from_epsg(32616), 'transform': Affine(10.0, 0.0, 199980.0,\n",
      "       0.0, -10.0, 1800000.0)}\n"
     ]
    }
   ],
   "source": [
    "from vibe_core.client import get_default_vibe_client\n",
    "import rasterio\n",
    "from rasterio.plot import show\n",
    "import matplotlib.pyplot as plt\n",
    "client = get_default_vibe_client()\n",
    "run_ids = client.list_runs()\n",
    "id = 545\n",
    "# run_ids = run_ids[925:]\n",
    "run_id = run_ids[id] # will list the most recent run_id\n",
    "run = client.get_run_by_id(run_id)\n",
    "print(run)\n",
    "with rasterio.open(run.output['raster'][0].assets[0].path_or_url) as src:\n",
    "    print(src.meta)\n",
    "run_landsat_33 = run\n",
    "\n",
    "id = 926\n",
    "# run_ids = run_ids[925:]\n",
    "run_id = run_ids[id] # will list the most recent run_id\n",
    "run = client.get_run_by_id(run_id)\n",
    "print(run)\n",
    "with rasterio.open(run.output['raster'][0].assets[0].path_or_url) as src:\n",
    "    print(src.meta)\n",
    "run_s2_33 = run"
   ]
  },
  {
   "cell_type": "code",
   "execution_count": 12,
   "id": "fabe11dc-63b3-44d3-9ae3-8c9ecf2d5d93",
   "metadata": {},
   "outputs": [],
   "source": [
    "from osgeo import gdal\n",
    "import geopandas"
   ]
  },
  {
   "cell_type": "code",
   "execution_count": null,
   "id": "cbbf37f5-889d-4275-80eb-4fb5c94ca117",
   "metadata": {},
   "outputs": [],
   "source": []
  }
 ],
 "metadata": {
  "kernelspec": {
   "display_name": "Python 3 (ipykernel)",
   "language": "python",
   "name": "python3"
  },
  "language_info": {
   "codemirror_mode": {
    "name": "ipython",
    "version": 3
   },
   "file_extension": ".py",
   "mimetype": "text/x-python",
   "name": "python",
   "nbconvert_exporter": "python",
   "pygments_lexer": "ipython3",
   "version": "3.8.18"
  }
 },
 "nbformat": 4,
 "nbformat_minor": 5
}
